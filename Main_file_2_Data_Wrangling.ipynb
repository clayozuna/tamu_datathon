{
  "nbformat": 4,
  "nbformat_minor": 0,
  "metadata": {
    "colab": {
      "name": "2. Data Wrangling",
      "provenance": [],
      "collapsed_sections": [],
      "include_colab_link": true
    },
    "kernelspec": {
      "name": "python3",
      "display_name": "Python 3"
    }
  },
  "cells": [
    {
      "cell_type": "markdown",
      "metadata": {
        "id": "view-in-github",
        "colab_type": "text"
      },
      "source": [
        "<a href=\"https://colab.research.google.com/github/clayozuna/tamu_datathon/blob/master/Main_file_2_Data_Wrangling.ipynb\" target=\"_parent\"><img src=\"https://colab.research.google.com/assets/colab-badge.svg\" alt=\"Open In Colab\"/></a>"
      ]
    },
    {
      "cell_type": "markdown",
      "metadata": {
        "id": "dGHiBIrrQXVY",
        "colab_type": "text"
      },
      "source": [
        "# Lesson 2: Data Wrangling\n",
        "\n",
        "![alt text](https://revsearch-assets.s3.amazonaws.com/images/ds_process1.png)\n",
        "\n",
        "> Credits: Bin Yu, [Veridical Data Science](https://arxiv.org/pdf/1901.08152.pdf)\n",
        "\n",
        "[This](https://www.kaggle.com/learn/pandas) warm up lesson on kaggle is a wonderful resource for you to get started with pandas in a few hours.\n",
        "\n",
        "## Learning Objectives:\n",
        "- where to find data\n",
        "- intro to pandas\n",
        "- \"imputation\": handle missing values\n",
        "- \"feature engineering\"\n",
        "  - one hot encoding\n",
        "- exploratory analysis/statistics\n",
        "  - correlation\n",
        "- exerise: find, import and describe your data\n",
        "\n",
        "\n",
        "\n",
        "### Definitions\n",
        "  * **Target Column:** This is the variable that you're trying to predict given other values. This is also called the _response_ / _predicted_ / _dependent_ / _label_ variable.\n",
        "  * **Feature Columns:** These are the variables that we use to calculate/predict the value of the target. These are also called _explanatory_ / _predictor_ / _feature_ / _signal_ variables. \n",
        "  * **Observations:** We have one observation per row. A observation is one instance of our data. In the below, a observation is a basketball player.\n",
        "  * **Tablular Data:** Data that has been organized into a matrix or table, i.e. into columns and rows. Think Excel. We will be dealing with tabular data. Note, we often interchange the words columns<>variables and rows<>observations.(Non-structured data, may be speech recordings or pictures.)\n",
        "\n",
        "<img src=\"https://media.geeksforgeeks.org/wp-content/uploads/finallpandas.png\" alt=\"alt\" width=\"500\"/>"
      ]
    },
    {
      "cell_type": "markdown",
      "metadata": {
        "colab_type": "text",
        "id": "2QjQ-uiQh4zO"
      },
      "source": [
        "## Where to Find Data\n",
        "- Built in (toy) datasets\n",
        "   - [seaborn](https://seaborn.pydata.org/generated/seaborn.load_dataset.html)\n",
        "   - [sklearn](https://scikit-learn.org/stable/modules/classes.html#module-sklearn.datasets) \n",
        "   - [pydatasets](https://github.com/iamaziz/PyDataset)\n",
        "- Using Links\n",
        "   - [UCI](https://archive.ics.uci.edu/ml/index.php)\n",
        "- Repositories\n",
        "   - [Google dataset search](https://toolbox.google.com/datasetsearch)\n",
        "   - [Kaggle datasets](https://www.kaggle.com/datasets)\n",
        "- Reading csv's from your computer\n",
        "   - Colab code snippets\n",
        "- Reading csv's from your google drive\n",
        "- If you have a dataset locally, can upload it to [here](https://filebin.net/) for a url link"
      ]
    },
    {
      "cell_type": "code",
      "metadata": {
        "id": "aC0owoR1q_4X",
        "colab_type": "code",
        "colab": {}
      },
      "source": [
        "import pandas as pd"
      ],
      "execution_count": 0,
      "outputs": []
    },
    {
      "cell_type": "markdown",
      "metadata": {
        "id": "5JQogEmyF2rA",
        "colab_type": "text"
      },
      "source": [
        "Load datasets from google drive (not recomended for shareablility)\n",
        "```\n",
        "from google.colab import drive\n",
        "drive.mount('/gdrive', force_remount=True)\n",
        "path = '/gdrive/Shared drives/TD 2019/Applicant Data'\n",
        "df = pd.read_csv(path + '/final_participant_data.csv')\n",
        "```\n",
        "\n",
        "Upload from local file system (not recomended for shareablility)\n",
        "```\n",
        "from google.colab import files\n",
        "uploaded = files.upload()\n",
        "df = pd.read_csv(list(uploaded.keys())[0])\n",
        "```\n"
      ]
    },
    {
      "cell_type": "code",
      "metadata": {
        "id": "8cpW-EbYxaNf",
        "colab_type": "code",
        "outputId": "cf3706ef-c83d-430e-f82b-8db66f5a1db9",
        "colab": {
          "base_uri": "https://localhost:8080/",
          "height": 292
        }
      },
      "source": [
        "# loading toy datasets from seaborn\n",
        "import seaborn as sns\n",
        "# some datasets we'll be using: titanic, iris, mpg\n",
        "sns.get_dataset_names() # to see all datasets\n",
        "df = sns.load_dataset(\"titanic\")\n",
        "df.head()"
      ],
      "execution_count": 0,
      "outputs": [
        {
          "output_type": "stream",
          "text": [
            "/usr/local/lib/python3.6/dist-packages/seaborn/utils.py:376: UserWarning: No parser was explicitly specified, so I'm using the best available HTML parser for this system (\"lxml\"). This usually isn't a problem, but if you run this code on another system, or in a different virtual environment, it may use a different parser and behave differently.\n",
            "\n",
            "The code that caused this warning is on line 376 of the file /usr/local/lib/python3.6/dist-packages/seaborn/utils.py. To get rid of this warning, pass the additional argument 'features=\"lxml\"' to the BeautifulSoup constructor.\n",
            "\n",
            "  gh_list = BeautifulSoup(http)\n"
          ],
          "name": "stderr"
        },
        {
          "output_type": "execute_result",
          "data": {
            "text/html": [
              "<div>\n",
              "<style scoped>\n",
              "    .dataframe tbody tr th:only-of-type {\n",
              "        vertical-align: middle;\n",
              "    }\n",
              "\n",
              "    .dataframe tbody tr th {\n",
              "        vertical-align: top;\n",
              "    }\n",
              "\n",
              "    .dataframe thead th {\n",
              "        text-align: right;\n",
              "    }\n",
              "</style>\n",
              "<table border=\"1\" class=\"dataframe\">\n",
              "  <thead>\n",
              "    <tr style=\"text-align: right;\">\n",
              "      <th></th>\n",
              "      <th>survived</th>\n",
              "      <th>pclass</th>\n",
              "      <th>sex</th>\n",
              "      <th>age</th>\n",
              "      <th>sibsp</th>\n",
              "      <th>parch</th>\n",
              "      <th>fare</th>\n",
              "      <th>embarked</th>\n",
              "      <th>class</th>\n",
              "      <th>who</th>\n",
              "      <th>adult_male</th>\n",
              "      <th>deck</th>\n",
              "      <th>embark_town</th>\n",
              "      <th>alive</th>\n",
              "      <th>alone</th>\n",
              "    </tr>\n",
              "  </thead>\n",
              "  <tbody>\n",
              "    <tr>\n",
              "      <th>0</th>\n",
              "      <td>0</td>\n",
              "      <td>3</td>\n",
              "      <td>male</td>\n",
              "      <td>22.0</td>\n",
              "      <td>1</td>\n",
              "      <td>0</td>\n",
              "      <td>7.2500</td>\n",
              "      <td>S</td>\n",
              "      <td>Third</td>\n",
              "      <td>man</td>\n",
              "      <td>True</td>\n",
              "      <td>NaN</td>\n",
              "      <td>Southampton</td>\n",
              "      <td>no</td>\n",
              "      <td>False</td>\n",
              "    </tr>\n",
              "    <tr>\n",
              "      <th>1</th>\n",
              "      <td>1</td>\n",
              "      <td>1</td>\n",
              "      <td>female</td>\n",
              "      <td>38.0</td>\n",
              "      <td>1</td>\n",
              "      <td>0</td>\n",
              "      <td>71.2833</td>\n",
              "      <td>C</td>\n",
              "      <td>First</td>\n",
              "      <td>woman</td>\n",
              "      <td>False</td>\n",
              "      <td>C</td>\n",
              "      <td>Cherbourg</td>\n",
              "      <td>yes</td>\n",
              "      <td>False</td>\n",
              "    </tr>\n",
              "    <tr>\n",
              "      <th>2</th>\n",
              "      <td>1</td>\n",
              "      <td>3</td>\n",
              "      <td>female</td>\n",
              "      <td>26.0</td>\n",
              "      <td>0</td>\n",
              "      <td>0</td>\n",
              "      <td>7.9250</td>\n",
              "      <td>S</td>\n",
              "      <td>Third</td>\n",
              "      <td>woman</td>\n",
              "      <td>False</td>\n",
              "      <td>NaN</td>\n",
              "      <td>Southampton</td>\n",
              "      <td>yes</td>\n",
              "      <td>True</td>\n",
              "    </tr>\n",
              "    <tr>\n",
              "      <th>3</th>\n",
              "      <td>1</td>\n",
              "      <td>1</td>\n",
              "      <td>female</td>\n",
              "      <td>35.0</td>\n",
              "      <td>1</td>\n",
              "      <td>0</td>\n",
              "      <td>53.1000</td>\n",
              "      <td>S</td>\n",
              "      <td>First</td>\n",
              "      <td>woman</td>\n",
              "      <td>False</td>\n",
              "      <td>C</td>\n",
              "      <td>Southampton</td>\n",
              "      <td>yes</td>\n",
              "      <td>False</td>\n",
              "    </tr>\n",
              "    <tr>\n",
              "      <th>4</th>\n",
              "      <td>0</td>\n",
              "      <td>3</td>\n",
              "      <td>male</td>\n",
              "      <td>35.0</td>\n",
              "      <td>0</td>\n",
              "      <td>0</td>\n",
              "      <td>8.0500</td>\n",
              "      <td>S</td>\n",
              "      <td>Third</td>\n",
              "      <td>man</td>\n",
              "      <td>True</td>\n",
              "      <td>NaN</td>\n",
              "      <td>Southampton</td>\n",
              "      <td>no</td>\n",
              "      <td>True</td>\n",
              "    </tr>\n",
              "  </tbody>\n",
              "</table>\n",
              "</div>"
            ],
            "text/plain": [
              "   survived  pclass     sex   age  ...  deck  embark_town  alive  alone\n",
              "0         0       3    male  22.0  ...   NaN  Southampton     no  False\n",
              "1         1       1  female  38.0  ...     C    Cherbourg    yes  False\n",
              "2         1       3  female  26.0  ...   NaN  Southampton    yes   True\n",
              "3         1       1  female  35.0  ...     C  Southampton    yes  False\n",
              "4         0       3    male  35.0  ...   NaN  Southampton     no   True\n",
              "\n",
              "[5 rows x 15 columns]"
            ]
          },
          "metadata": {
            "tags": []
          },
          "execution_count": 1
        }
      ]
    },
    {
      "cell_type": "markdown",
      "metadata": {
        "id": "H1gsxVsVvxp8",
        "colab_type": "text"
      },
      "source": [
        "## Pandas\n",
        "\n",
        "Pandas is one of the top (if not the top) data manipulation and analysis libraries for Python right now. It loads data into these easy to access and manipulate structures called _DataFrames_. Data in these is 'arranged' similar to what you might have seen in a spreasheet, with rows specifying data points and columns specifying certain categories/features/variables.\n",
        "\n",
        "You should know the basic Pandas structures (DataFrame, Series) and commands (indexing, groupby, merge, summarize, sort, etc).\n",
        "\n",
        "*Note: Pandas is generally \"non-mutative\". If you perform an operation on a dataframe, you generally have to assign the value of that operation to a new variable to save it.\n",
        "\n",
        "For the SQL lovers out there: [sql to pandas](https://medium.com/jbennetcodes/how-to-rewrite-your-sql-queries-in-pandas-and-more-149d341fc53e)"
      ]
    },
    {
      "cell_type": "code",
      "metadata": {
        "id": "EhyQpq8qJL7L",
        "colab_type": "code",
        "colab": {}
      },
      "source": [
        "import pandas as pd"
      ],
      "execution_count": 0,
      "outputs": []
    },
    {
      "cell_type": "code",
      "metadata": {
        "id": "fsh1vvgNRaLf",
        "colab_type": "code",
        "outputId": "3e1ec05d-60fc-4c9e-b25c-c92d995e8541",
        "colab": {
          "base_uri": "https://localhost:8080/",
          "height": 102
        }
      },
      "source": [
        "# Series\n",
        "s = pd.Series([1, 3, 4, 2], index=['a', 'b', 'c', 'd'])\n",
        "s"
      ],
      "execution_count": 0,
      "outputs": [
        {
          "output_type": "execute_result",
          "data": {
            "text/plain": [
              "a    1\n",
              "b    3\n",
              "c    4\n",
              "d    2\n",
              "dtype: int64"
            ]
          },
          "metadata": {
            "tags": []
          },
          "execution_count": 6
        }
      ]
    },
    {
      "cell_type": "code",
      "metadata": {
        "id": "mGTTcaLQR97b",
        "colab_type": "code",
        "outputId": "e6678ce0-93e0-46af-d48a-30a875e89147",
        "colab": {
          "base_uri": "https://localhost:8080/",
          "height": 34
        }
      },
      "source": [
        "# Aggregations\n",
        "s.sum()"
      ],
      "execution_count": 0,
      "outputs": [
        {
          "output_type": "execute_result",
          "data": {
            "text/plain": [
              "10"
            ]
          },
          "metadata": {
            "tags": []
          },
          "execution_count": 7
        }
      ]
    },
    {
      "cell_type": "code",
      "metadata": {
        "id": "50MqkOszJN9w",
        "colab_type": "code",
        "outputId": "6031b0e5-a474-423b-fb0e-df39f0457c04",
        "colab": {
          "base_uri": "https://localhost:8080/",
          "height": 204
        }
      },
      "source": [
        "# making a dataframe\n",
        "students = pd.DataFrame({\n",
        "    'name': ['Charis',  'Bruno',  'Mara',  'Brett',  'Keeva',  'Karson',  'Reyansh',  'Olivier',  'Mara',  'Lowri'],\n",
        "    'haircolor': pd.Categorical(['red', 'red', 'brown', 'blonde', 'brown', 'brown', 'blonde', 'brown', 'brown', 'blonde']),\n",
        "    'weight': [176, 111, 181, 170, 198, 144, 114, 203, 187, 197],\n",
        "    'birthdate': pd.to_datetime(['28/4/1955', '26/10/1956', '9/5/1984', '1/7/1957', '23/8/1961', '11/6/1969', '27/11/1974', '4/2/1992', '14/1/1983', '4/2/1992'])\n",
        "    })\n",
        "\n",
        "students.head()"
      ],
      "execution_count": 0,
      "outputs": [
        {
          "output_type": "execute_result",
          "data": {
            "text/html": [
              "<div>\n",
              "<style scoped>\n",
              "    .dataframe tbody tr th:only-of-type {\n",
              "        vertical-align: middle;\n",
              "    }\n",
              "\n",
              "    .dataframe tbody tr th {\n",
              "        vertical-align: top;\n",
              "    }\n",
              "\n",
              "    .dataframe thead th {\n",
              "        text-align: right;\n",
              "    }\n",
              "</style>\n",
              "<table border=\"1\" class=\"dataframe\">\n",
              "  <thead>\n",
              "    <tr style=\"text-align: right;\">\n",
              "      <th></th>\n",
              "      <th>name</th>\n",
              "      <th>haircolor</th>\n",
              "      <th>weight</th>\n",
              "      <th>birthdate</th>\n",
              "    </tr>\n",
              "  </thead>\n",
              "  <tbody>\n",
              "    <tr>\n",
              "      <th>0</th>\n",
              "      <td>Charis</td>\n",
              "      <td>red</td>\n",
              "      <td>176</td>\n",
              "      <td>1955-04-28</td>\n",
              "    </tr>\n",
              "    <tr>\n",
              "      <th>1</th>\n",
              "      <td>Bruno</td>\n",
              "      <td>red</td>\n",
              "      <td>111</td>\n",
              "      <td>1956-10-26</td>\n",
              "    </tr>\n",
              "    <tr>\n",
              "      <th>2</th>\n",
              "      <td>Mara</td>\n",
              "      <td>brown</td>\n",
              "      <td>181</td>\n",
              "      <td>1984-09-05</td>\n",
              "    </tr>\n",
              "    <tr>\n",
              "      <th>3</th>\n",
              "      <td>Brett</td>\n",
              "      <td>blonde</td>\n",
              "      <td>170</td>\n",
              "      <td>1957-01-07</td>\n",
              "    </tr>\n",
              "    <tr>\n",
              "      <th>4</th>\n",
              "      <td>Keeva</td>\n",
              "      <td>brown</td>\n",
              "      <td>198</td>\n",
              "      <td>1961-08-23</td>\n",
              "    </tr>\n",
              "  </tbody>\n",
              "</table>\n",
              "</div>"
            ],
            "text/plain": [
              "     name haircolor  weight  birthdate\n",
              "0  Charis       red     176 1955-04-28\n",
              "1   Bruno       red     111 1956-10-26\n",
              "2    Mara     brown     181 1984-09-05\n",
              "3   Brett    blonde     170 1957-01-07\n",
              "4   Keeva     brown     198 1961-08-23"
            ]
          },
          "metadata": {
            "tags": []
          },
          "execution_count": 8
        }
      ]
    },
    {
      "cell_type": "code",
      "metadata": {
        "id": "LW_eWRBXPBKr",
        "colab_type": "code",
        "outputId": "54ba710a-4cc6-4479-efaa-16d43003990a",
        "colab": {
          "base_uri": "https://localhost:8080/",
          "height": 204
        }
      },
      "source": [
        "# getting a column\n",
        "students['name']\n",
        "students.name"
      ],
      "execution_count": 0,
      "outputs": [
        {
          "output_type": "execute_result",
          "data": {
            "text/plain": [
              "0     Charis\n",
              "1      Bruno\n",
              "2       Mara\n",
              "3      Brett\n",
              "4      Keeva\n",
              "5     Karson\n",
              "6    Reyansh\n",
              "7    Olivier\n",
              "8       Mara\n",
              "9      Lowri\n",
              "Name: name, dtype: object"
            ]
          },
          "metadata": {
            "tags": []
          },
          "execution_count": 9
        }
      ]
    },
    {
      "cell_type": "code",
      "metadata": {
        "id": "uZnEC6F9LhZ4",
        "colab_type": "code",
        "outputId": "4d7fe69f-0105-4c97-dc0f-8a227b27557f",
        "colab": {
          "base_uri": "https://localhost:8080/",
          "height": 102
        }
      },
      "source": [
        "# column data types\n",
        "students.dtypes"
      ],
      "execution_count": 0,
      "outputs": [
        {
          "output_type": "execute_result",
          "data": {
            "text/plain": [
              "name                 object\n",
              "haircolor          category\n",
              "weight                int64\n",
              "birthdate    datetime64[ns]\n",
              "dtype: object"
            ]
          },
          "metadata": {
            "tags": []
          },
          "execution_count": 10
        }
      ]
    },
    {
      "cell_type": "code",
      "metadata": {
        "id": "YUo8jBJPEkWV",
        "colab_type": "code",
        "outputId": "0d8b4f63-95c4-47f1-9001-2cabe5b3278a",
        "colab": {
          "base_uri": "https://localhost:8080/",
          "height": 102
        }
      },
      "source": [
        "# change datatype\n",
        "students.weight = students.weight.astype('float64')\n",
        "students.dtypes"
      ],
      "execution_count": 0,
      "outputs": [
        {
          "output_type": "execute_result",
          "data": {
            "text/plain": [
              "name                 object\n",
              "haircolor          category\n",
              "weight              float64\n",
              "birthdate    datetime64[ns]\n",
              "dtype: object"
            ]
          },
          "metadata": {
            "tags": []
          },
          "execution_count": 11
        }
      ]
    },
    {
      "cell_type": "code",
      "metadata": {
        "id": "TecjbLwqLmM0",
        "colab_type": "code",
        "outputId": "9cb5af9d-de48-452f-be97-1d234f235951",
        "colab": {
          "base_uri": "https://localhost:8080/",
          "height": 297
        }
      },
      "source": [
        "# descriptive statistics of numerical columns\n",
        "students.describe()"
      ],
      "execution_count": 0,
      "outputs": [
        {
          "output_type": "execute_result",
          "data": {
            "text/html": [
              "<div>\n",
              "<style scoped>\n",
              "    .dataframe tbody tr th:only-of-type {\n",
              "        vertical-align: middle;\n",
              "    }\n",
              "\n",
              "    .dataframe tbody tr th {\n",
              "        vertical-align: top;\n",
              "    }\n",
              "\n",
              "    .dataframe thead th {\n",
              "        text-align: right;\n",
              "    }\n",
              "</style>\n",
              "<table border=\"1\" class=\"dataframe\">\n",
              "  <thead>\n",
              "    <tr style=\"text-align: right;\">\n",
              "      <th></th>\n",
              "      <th>weight</th>\n",
              "    </tr>\n",
              "  </thead>\n",
              "  <tbody>\n",
              "    <tr>\n",
              "      <th>count</th>\n",
              "      <td>10.000000</td>\n",
              "    </tr>\n",
              "    <tr>\n",
              "      <th>mean</th>\n",
              "      <td>168.100000</td>\n",
              "    </tr>\n",
              "    <tr>\n",
              "      <th>std</th>\n",
              "      <td>33.837684</td>\n",
              "    </tr>\n",
              "    <tr>\n",
              "      <th>min</th>\n",
              "      <td>111.000000</td>\n",
              "    </tr>\n",
              "    <tr>\n",
              "      <th>25%</th>\n",
              "      <td>150.500000</td>\n",
              "    </tr>\n",
              "    <tr>\n",
              "      <th>50%</th>\n",
              "      <td>178.500000</td>\n",
              "    </tr>\n",
              "    <tr>\n",
              "      <th>75%</th>\n",
              "      <td>194.500000</td>\n",
              "    </tr>\n",
              "    <tr>\n",
              "      <th>max</th>\n",
              "      <td>203.000000</td>\n",
              "    </tr>\n",
              "  </tbody>\n",
              "</table>\n",
              "</div>"
            ],
            "text/plain": [
              "           weight\n",
              "count   10.000000\n",
              "mean   168.100000\n",
              "std     33.837684\n",
              "min    111.000000\n",
              "25%    150.500000\n",
              "50%    178.500000\n",
              "75%    194.500000\n",
              "max    203.000000"
            ]
          },
          "metadata": {
            "tags": []
          },
          "execution_count": 13
        }
      ]
    },
    {
      "cell_type": "code",
      "metadata": {
        "id": "GT0zei2pLwbL",
        "colab_type": "code",
        "outputId": "41d88017-7c94-4b48-d0eb-00a163d08e48",
        "colab": {
          "base_uri": "https://localhost:8080/",
          "height": 102
        }
      },
      "source": [
        "# groupby and summarize\n",
        "students.groupby('haircolor').haircolor.count()"
      ],
      "execution_count": 0,
      "outputs": [
        {
          "output_type": "execute_result",
          "data": {
            "text/plain": [
              "haircolor\n",
              "blonde    3\n",
              "brown     5\n",
              "red       2\n",
              "Name: haircolor, dtype: int64"
            ]
          },
          "metadata": {
            "tags": []
          },
          "execution_count": 14
        }
      ]
    },
    {
      "cell_type": "code",
      "metadata": {
        "id": "aSex5VTjQhd2",
        "colab_type": "code",
        "outputId": "279ca241-6404-4f7c-e78b-0a677889ffcd",
        "colab": {
          "base_uri": "https://localhost:8080/",
          "height": 204
        }
      },
      "source": [
        "# multi-index\n",
        "students.groupby(['haircolor', 'name']).haircolor.count()"
      ],
      "execution_count": 0,
      "outputs": [
        {
          "output_type": "execute_result",
          "data": {
            "text/plain": [
              "haircolor  name   \n",
              "blonde     Brett      1\n",
              "           Lowri      1\n",
              "           Reyansh    1\n",
              "brown      Karson     1\n",
              "           Keeva      1\n",
              "           Mara       2\n",
              "           Olivier    1\n",
              "red        Bruno      1\n",
              "           Charis     1\n",
              "Name: haircolor, dtype: int64"
            ]
          },
          "metadata": {
            "tags": []
          },
          "execution_count": 15
        }
      ]
    },
    {
      "cell_type": "code",
      "metadata": {
        "id": "_pkwQshCjOv4",
        "colab_type": "code",
        "outputId": "8b03fe37-fb0b-400e-fc6f-06522c4ebf23",
        "colab": {
          "base_uri": "https://localhost:8080/",
          "height": 204
        }
      },
      "source": [
        "# string operations\n",
        "students.name.str.lower()"
      ],
      "execution_count": 0,
      "outputs": [
        {
          "output_type": "execute_result",
          "data": {
            "text/plain": [
              "0     charis\n",
              "1      bruno\n",
              "2       mara\n",
              "3      brett\n",
              "4      keeva\n",
              "5     karson\n",
              "6    reyansh\n",
              "7    olivier\n",
              "8       mara\n",
              "9      lowri\n",
              "Name: name, dtype: object"
            ]
          },
          "metadata": {
            "tags": []
          },
          "execution_count": 16
        }
      ]
    },
    {
      "cell_type": "code",
      "metadata": {
        "id": "zHnzZYyejXkn",
        "colab_type": "code",
        "outputId": "3740b2c4-25db-4314-95cc-1ea9150ea35c",
        "colab": {
          "base_uri": "https://localhost:8080/",
          "height": 204
        }
      },
      "source": [
        "students.name.str.replace('e', '-')"
      ],
      "execution_count": 0,
      "outputs": [
        {
          "output_type": "execute_result",
          "data": {
            "text/plain": [
              "0     Charis\n",
              "1      Bruno\n",
              "2       Mara\n",
              "3      Br-tt\n",
              "4      K--va\n",
              "5     Karson\n",
              "6    R-yansh\n",
              "7    Olivi-r\n",
              "8       Mara\n",
              "9      Lowri\n",
              "Name: name, dtype: object"
            ]
          },
          "metadata": {
            "tags": []
          },
          "execution_count": 17
        }
      ]
    },
    {
      "cell_type": "code",
      "metadata": {
        "id": "-e9bc54Ojd_F",
        "colab_type": "code",
        "outputId": "8ded17e0-bb12-4145-e99a-1b4cdc2abfe2",
        "colab": {
          "base_uri": "https://localhost:8080/",
          "height": 51
        }
      },
      "source": [
        "# np.where\n",
        "import numpy as np\n",
        "np.where(students.name.str.startswith('B'), 'b-name', 'other')"
      ],
      "execution_count": 0,
      "outputs": [
        {
          "output_type": "execute_result",
          "data": {
            "text/plain": [
              "array(['other', 'b-name', 'other', 'b-name', 'other', 'other', 'other',\n",
              "       'other', 'other', 'other'], dtype='<U6')"
            ]
          },
          "metadata": {
            "tags": []
          },
          "execution_count": 23
        }
      ]
    },
    {
      "cell_type": "code",
      "metadata": {
        "id": "9piJMglgjzc2",
        "colab_type": "code",
        "outputId": "db8a949f-8e21-4f3e-9ac0-5110a9316270",
        "colab": {
          "base_uri": "https://localhost:8080/",
          "height": 204
        }
      },
      "source": [
        "# df.apply\n",
        "students.apply(lambda row: row['name']  + ' - ' + row['haircolor'], axis=1)"
      ],
      "execution_count": 0,
      "outputs": [
        {
          "output_type": "execute_result",
          "data": {
            "text/plain": [
              "0        Charis - red\n",
              "1         Bruno - red\n",
              "2        Mara - brown\n",
              "3      Brett - blonde\n",
              "4       Keeva - brown\n",
              "5      Karson - brown\n",
              "6    Reyansh - blonde\n",
              "7     Olivier - brown\n",
              "8        Mara - brown\n",
              "9      Lowri - blonde\n",
              "dtype: object"
            ]
          },
          "metadata": {
            "tags": []
          },
          "execution_count": 34
        }
      ]
    },
    {
      "cell_type": "code",
      "metadata": {
        "id": "VaWFrr00MQyJ",
        "colab_type": "code",
        "colab": {}
      },
      "source": [
        "# another dataframe\n",
        "rgb_colors = pd.DataFrame({\n",
        "    'color': ['brown', 'blonde', 'red', 'green'],\n",
        "    'r': [145, 253, 238, 102],\n",
        "    'g': [33, 145, 44, 45],\n",
        "    'b': [33, 190, 44, 73]\n",
        "  })"
      ],
      "execution_count": 0,
      "outputs": []
    },
    {
      "cell_type": "code",
      "metadata": {
        "id": "HE4z3cBPNvhN",
        "colab_type": "code",
        "colab": {}
      },
      "source": [
        "# merging\n",
        "merged = pd.merge(students, rgb_colors, left_on='haircolor', right_on='color')\n",
        "merged"
      ],
      "execution_count": 0,
      "outputs": []
    },
    {
      "cell_type": "code",
      "metadata": {
        "id": "3xfw0HpPZcsq",
        "colab_type": "code",
        "colab": {}
      },
      "source": [
        "# filtering\n",
        "students[students.haircolor == 'blonde']"
      ],
      "execution_count": 0,
      "outputs": []
    },
    {
      "cell_type": "code",
      "metadata": {
        "id": "v6pE-bmcZfLt",
        "colab_type": "code",
        "colab": {}
      },
      "source": [
        "# multi filtering\n",
        "students[(students.haircolor == 'blonde') & (students.weight > 150)]"
      ],
      "execution_count": 0,
      "outputs": []
    },
    {
      "cell_type": "code",
      "metadata": {
        "id": "40kqKKDQN7hb",
        "colab_type": "code",
        "colab": {}
      },
      "source": [
        "# indexes\n",
        "reindexed = students.set_index('name')\n",
        "reindexed"
      ],
      "execution_count": 0,
      "outputs": []
    },
    {
      "cell_type": "code",
      "metadata": {
        "id": "Dph4DSyUONWO",
        "colab_type": "code",
        "colab": {}
      },
      "source": [
        "# selecting row by the dataframe index\n",
        "reindexed.loc['Charis']\n",
        "reindexed.loc[['Charis', 'Reyansh']]"
      ],
      "execution_count": 0,
      "outputs": []
    },
    {
      "cell_type": "code",
      "metadata": {
        "id": "hz0-TaXHOccS",
        "colab_type": "code",
        "colab": {}
      },
      "source": [
        "# selecting by row number(s)\n",
        "reindexed.iloc[0]\n",
        "reindexed.iloc[[0, 3, 4]]\n",
        "reindexed.iloc[2: 4]"
      ],
      "execution_count": 0,
      "outputs": []
    },
    {
      "cell_type": "code",
      "metadata": {
        "id": "2BRSbOcXQIYk",
        "colab_type": "code",
        "colab": {}
      },
      "source": [
        "# sorting\n",
        "reindexed.sort_values(by='birthdate', ascending=False)"
      ],
      "execution_count": 0,
      "outputs": []
    },
    {
      "cell_type": "markdown",
      "metadata": {
        "id": "phqx2IJGgiz0",
        "colab_type": "text"
      },
      "source": [
        "### Imputation: Handle Missing Values\n"
      ]
    },
    {
      "cell_type": "code",
      "metadata": {
        "id": "SZvbK5L_UR8Y",
        "colab_type": "code",
        "colab": {}
      },
      "source": [
        "import numpy as np\n",
        "reindexed.loc['Charis', 'haircolor'] = np.NaN"
      ],
      "execution_count": 0,
      "outputs": []
    },
    {
      "cell_type": "code",
      "metadata": {
        "id": "IWybv0TxUcbf",
        "colab_type": "code",
        "colab": {}
      },
      "source": [
        "# notice NaN\n",
        "reindexed"
      ],
      "execution_count": 0,
      "outputs": []
    },
    {
      "cell_type": "code",
      "metadata": {
        "id": "PhMIJo9ZUgBZ",
        "colab_type": "code",
        "colab": {}
      },
      "source": [
        "# count NaNs in columns\n",
        "reindexed.isna().mean()"
      ],
      "execution_count": 0,
      "outputs": []
    },
    {
      "cell_type": "code",
      "metadata": {
        "id": "svXiMbolUqmg",
        "colab_type": "code",
        "colab": {}
      },
      "source": [
        "# drop any rows containing a NaN (axis=1 for column)\n",
        "reindexed.dropna(axis=0)"
      ],
      "execution_count": 0,
      "outputs": []
    },
    {
      "cell_type": "code",
      "metadata": {
        "id": "0jxMcypPHdt3",
        "colab_type": "code",
        "colab": {}
      },
      "source": [
        "# case study\n",
        "import seaborn as sns\n",
        "import numpy as np\n",
        "df = sns.load_dataset('titanic')\n",
        "# which column may want to drop?\n",
        "df.isna().mean()"
      ],
      "execution_count": 0,
      "outputs": []
    },
    {
      "cell_type": "code",
      "metadata": {
        "id": "dmXvHsuYMd6F",
        "colab_type": "code",
        "colab": {}
      },
      "source": [
        "# check for bias\n",
        "df['age_isna'] = df.age.isna()\n",
        "print(np.abs(df.corr()['age_isna']))"
      ],
      "execution_count": 0,
      "outputs": []
    },
    {
      "cell_type": "code",
      "metadata": {
        "id": "I7g9vk5bUwrV",
        "colab_type": "code",
        "colab": {}
      },
      "source": [
        "# impute\n",
        "#   - median: if data is numerical\n",
        "#   - mode: if data is catagorical\n",
        "print(reindexed.haircolor.mode()[0])\n",
        "reindexed.fillna('brown')"
      ],
      "execution_count": 0,
      "outputs": []
    },
    {
      "cell_type": "code",
      "metadata": {
        "id": "r7MZnIGDVAqI",
        "colab_type": "code",
        "colab": {}
      },
      "source": [
        "# add column: col1_na"
      ],
      "execution_count": 0,
      "outputs": []
    },
    {
      "cell_type": "markdown",
      "metadata": {
        "id": "r-z4pnytVNbl",
        "colab_type": "text"
      },
      "source": [
        "### Feature Engineering\n",
        "\n",
        "- Get Dummys\n",
        "- Label Encoding\n",
        "- Datetime Conversions\n",
        "- [More](https://elitedatascience.com/feature-engineering)"
      ]
    },
    {
      "cell_type": "code",
      "metadata": {
        "id": "1-NDlT27Zn9I",
        "colab_type": "code",
        "colab": {}
      },
      "source": [
        "# for encoding your categorical variables\n",
        "from sklearn.preprocessing import LabelEncoder\n",
        "le = LabelEncoder()\n",
        "le.fit([\"paris\", \"paris\", \"tokyo\", \"amsterdam\"])\n",
        "\n",
        "print(list(le.classes_))\n",
        "print(le.transform([\"tokyo\", \"tokyo\", \"paris\"]))\n",
        "print(list(le.inverse_transform([2, 2, 1])))\n",
        "\n",
        "# or in one line:\n",
        "le = LabelEncoder()\n",
        "print(le.fit_transform([\"tokyo\", \"tokyo\", \"paris\"]))"
      ],
      "execution_count": 0,
      "outputs": []
    },
    {
      "cell_type": "code",
      "metadata": {
        "id": "aKEw3gQFVmD4",
        "colab_type": "code",
        "colab": {}
      },
      "source": [
        "# Datetime Conversions\n",
        "import pandas as pd\n",
        "from pandas.tseries.holiday import USFederalHolidayCalendar as calendar\n",
        "\n",
        "### Date features:\n",
        "df['Date'] = pd.to_datetime(df['datetime'])\n",
        "df['Year'] = df['Date'].dt.year\n",
        "df['Month'] = df['Date'].dt.month\n",
        "df['Day'] = df['Date'].dt.day\n",
        "df['DayOfWeek'] = df['Date'].dt.dayofweek\n",
        "df['DayOfYear'] = df['Date'].dt.dayofyear\n",
        "df['YearsOld'] = df['Year'] - df['YearBuilt']\n",
        "\n",
        "\n",
        "### Holidays:\n",
        "def holidays():\n",
        "    cal = calendar()\n",
        "    dr = pd.date_range(start='2000-07-01', end='2019-07-31')\n",
        "    holidays = cal.holidays(start=dr.min(), end=dr.max())\n",
        "    return holidays\n",
        "\n",
        "df['Holiday'] = df['Date'].isin(holidays())"
      ],
      "execution_count": 0,
      "outputs": []
    },
    {
      "cell_type": "markdown",
      "metadata": {
        "id": "kQnrQg-xbgGz",
        "colab_type": "text"
      },
      "source": [
        "### Correlation\n",
        "\n",
        "Pearson’s Correlation\n",
        "The most common measure of correlation is Pearson’s correlation (often denoted $r$).\n",
        "\n",
        "- A correlation of 1 indicates a perfect positive linear relationship.\n",
        "- A correlation of -1 indicates a perfect negative linear relationship.\n",
        "- A correlation of 0 indicates that there is no linear relationship between the different variables.\n",
        "- Values between -1 and 1 denote the strength of the correlation.\n",
        "\n",
        "Looking at how your data is correlated with what your trying to predict is an important step. It helps you choose predictors to use and what kind of a model to consider. "
      ]
    },
    {
      "cell_type": "code",
      "metadata": {
        "id": "2d80Gkxmbxpi",
        "colab_type": "code",
        "colab": {}
      },
      "source": [
        "# if both dataframes have the same index, can use join, slightly slicker than merge... same thing\n",
        "heights = pd.Series({'Brett': 75, 'Bruno': 67, 'Charis': 79, 'Karson': 68, 'Keeva': 75, 'Lowri': 73, 'Mara': 72, 'Olivier': 76, 'Reyansh': 58}, name='height')\n",
        "merged2 = reindexed.join(heights)\n",
        "merged2.head()"
      ],
      "execution_count": 0,
      "outputs": []
    },
    {
      "cell_type": "code",
      "metadata": {
        "id": "zsIjCqAKd-w3",
        "colab_type": "code",
        "colab": {}
      },
      "source": [
        "# how to get correlation\n",
        "merged2.corr()"
      ],
      "execution_count": 0,
      "outputs": []
    },
    {
      "cell_type": "markdown",
      "metadata": {
        "id": "_38xQnxqTC9Y",
        "colab_type": "text"
      },
      "source": [
        "## Challenge:\n",
        "\n",
        "![alt text](http://exceltutorialworld.com/wp-content/uploads/2017/10/Capture-30.png)\n",
        "- Build a dataframe with the tabular data pictured\n",
        "- Sort the salesmen in order of most revenue\n",
        "- What was the highest revenue made in a region by any one salesman?\n",
        "- Merge the dataframe shown below with your dataframe so that the age of the salesmen shows up in your dataframe as a column\n",
        "- Impute Joe's missing age\n",
        "- What's the average age of the salesmen in the North?\n",
        "\n",
        "\n",
        "```\n",
        "pd.DataFrame({\n",
        "  \"name\": ['Rob', 'Joe', 'Rikki', 'Chris'], \n",
        "  \"age\": [56, np.NaN, 23, 35],\n",
        "})\n",
        "```\n",
        "\n",
        "\n"
      ]
    },
    {
      "cell_type": "code",
      "metadata": {
        "id": "RqrqDamo8mQ9",
        "colab_type": "code",
        "cellView": "both",
        "outputId": "82f4bfca-0e19-49df-e2bf-60cbbaecb594",
        "colab": {
          "base_uri": "https://localhost:8080/",
          "height": 33
        }
      },
      "source": [
        "#@title Challenge Setup\n",
        "\n",
        "import binascii\n",
        "#binascii.b2a_hex(b\"input\")\n",
        "def check(answer, truth, label=''):\n",
        "  decode = lambda s: binascii.unhexlify(s.encode()).decode()\n",
        "  if answer == '':\n",
        "    print(f'Please answer the question{\" for \" if label else \"\"}{label}. 🤓')\n",
        "  elif answer == decode(truth):\n",
        "    print(f'{label}{\" - \" if label else \"\"}Correct! 🤩')\n",
        "  else:\n",
        "    print(f'{label}{\" - \" if label else \"\"}Incorrect 😞')\n",
        "\n",
        "print(\"Setup Complete! 🎉\")"
      ],
      "execution_count": 0,
      "outputs": [
        {
          "output_type": "stream",
          "text": [
            "Setup Complete! 🎉\n"
          ],
          "name": "stdout"
        }
      ]
    },
    {
      "cell_type": "code",
      "metadata": {
        "id": "2LCvfZJE7fZm",
        "colab_type": "code",
        "cellView": "form",
        "outputId": "ac111fa9-b07a-4024-f940-546f183392d0",
        "colab": {
          "base_uri": "https://localhost:8080/",
          "height": 82
        }
      },
      "source": [
        "#@title Answers\n",
        "\n",
        "#@markdown Who made the most revenue overall?\n",
        "most_rev_overall = \"\" #@param {type:\"string\"}\n",
        "\n",
        "#@markdown What was the highest revenue made in a region by any one salesman?\n",
        "most_rev_in_region = \"\" #@param {type:\"string\"}\n",
        "\n",
        "#@markdown What is joes missing age? \n",
        "joes_missing_age = \"\" #@param {type:\"string\"}\n",
        "\n",
        "#@markdown What is the average age in the north?\n",
        "north_avg_age = \"\" #@param {type:\"string\"}\n",
        "\n",
        "check(most_rev_overall, '52696b6b69', 'most_rev_overall')\n",
        "check(most_rev_in_region, '39313030', 'most_rev_in_region')\n",
        "check(joes_missing_age, '3239', 'joes_missing_age')\n",
        "check(north_avg_age, '3233', 'north_avg_age')"
      ],
      "execution_count": 0,
      "outputs": [
        {
          "output_type": "stream",
          "text": [
            "Please answer the question for most_rev_overall. 🤓\n",
            "Please answer the question for most_rev_in_region. 🤓\n",
            "Please answer the question for joes_missing_age. 🤓\n",
            "Please answer the question for north_avg_age. 🤓\n"
          ],
          "name": "stdout"
        }
      ]
    },
    {
      "cell_type": "markdown",
      "metadata": {
        "id": "_TJ2eFU1hfJr",
        "colab_type": "text"
      },
      "source": [
        "# Capstone Work\n",
        "\n",
        "- find dataset(s)\n",
        "  - titanic: use seaborn\n",
        "  - housing: use sklearn (see below)\n",
        "- read csv\n",
        "- define your target columns and features columns\n",
        "- adjust to the proper datatypes if needed, then report the data types\n",
        "- check and impute the missing values\n",
        "- calculate correlations and interpret"
      ]
    },
    {
      "cell_type": "code",
      "metadata": {
        "id": "ZTIYdQ15IJN0",
        "colab_type": "code",
        "colab": {}
      },
      "source": [
        "from sklearn.datasets import load_boston\n",
        "import pandas as pd\n",
        "obj = load_boston()\n",
        "print(obj['DESCR'])\n",
        "housing = pd.DataFrame(obj['data'], columns=obj['feature_names'])\n",
        "housing.head()"
      ],
      "execution_count": 0,
      "outputs": []
    }
  ]
}